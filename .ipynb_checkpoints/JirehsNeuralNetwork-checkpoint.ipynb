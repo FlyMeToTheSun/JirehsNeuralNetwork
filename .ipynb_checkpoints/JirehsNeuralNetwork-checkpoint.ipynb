{
 "cells": [
  {
   "cell_type": "markdown",
   "id": "9078a808",
   "metadata": {},
   "source": [
    "# Jireh's Neural Network\n",
    "My attempt at creating a rough **3 layer neural network from scratch** by using just **NumPy** and a Sigmoid function from **SciPy** for my squashing/activiation function (*since calculus is fucking hard and its even harder to make my own calculus-using equation in python*) that performs image recognition on numerical handwriting. I think there is like 5000 similiar projects on kaggle but whatever.\n",
    "\n",
    "Also its JNN for short `(*>﹏<*)′"
   ]
  },
  {
   "cell_type": "code",
   "execution_count": 5,
   "id": "f204dbe6",
   "metadata": {},
   "outputs": [],
   "source": [
    "import numpy\n",
    "\n",
    "import matplotlib.pyplot\n",
    "%matplotlib inline\n",
    "\n",
    "import scipy.special"
   ]
  },
  {
   "cell_type": "markdown",
   "id": "d31c134a",
   "metadata": {},
   "source": [
    "### Remember\n",
    "Refer to the code below for a refresher on NumPy Arrays (*I need this LOL*)"
   ]
  },
  {
   "cell_type": "code",
   "execution_count": 13,
   "id": "5099b57a",
   "metadata": {},
   "outputs": [
    {
     "name": "stdout",
     "output_type": "stream",
     "text": [
      "[[0. 0.]\n",
      " [0. 0.]\n",
      " [0. 0.]]\n",
      "[[ 5.  2.]\n",
      " [ 9.  0.]\n",
      " [ 0. 12.]]\n"
     ]
    }
   ],
   "source": [
    "a = numpy.zeros([3,2])\n",
    "print(a)\n",
    "\n",
    "a[0,0] = 5\n",
    "a[0,1] = 2\n",
    "a[1,0] = 9\n",
    "a[2,1] = 12\n",
    "print(a)"
   ]
  },
  {
   "cell_type": "markdown",
   "id": "3d853d7b",
   "metadata": {},
   "source": [
    "### Remember\n",
    "\n",
    "In linear algebra, the dot product (also known as the scalar product or inner product) is a mathematical operation that takes two vectors of equal size and returns a scalar.\n",
    "\n",
    "The dot product of two vectors A and B is calculated by multiplying the corresponding elements of the vectors together and summing up the results. Specifically, for two vectors A and B with the same number of elements (n), the dot product can be written as:\n",
    "\n",
    "A · B = A1 * B1 + A2 * B2 + ... + An * Bn\n",
    "\n",
    "Where A1, A2, ..., An and B1, B2, ..., Bn are the corresponding elements of the two vectors.\n",
    "\n",
    "#### Furthermore\n",
    "In NumPy, the dot function is a method for computing the dot product between two arrays. The dot function can be used to perform dot products of various types of arrays, including 1-dimensional arrays, 2-dimensional arrays (matrices), and higher-dimensional arrays.\n",
    "\n",
    "In the example below, we have two 2D arrays A and B, with dimensions 2x3 and 3x2, respectively. We compute their dot product using the dot function, and assign the result to a new 2D array C.\n",
    "\n",
    "The dot product of A and B is computed as a matrix multiplication, where the rows of A are multiplied by the columns of B. Since A has 2 rows and B has 2 columns, the resulting matrix C has dimensions 2x2.\n",
    "\n",
    "This is the result of computing the dot product of A and B. Each element in C is the dot product of a row in A and a column in B."
   ]
  },
  {
   "cell_type": "code",
   "execution_count": 12,
   "id": "f47dfdbb",
   "metadata": {},
   "outputs": [
    {
     "name": "stdout",
     "output_type": "stream",
     "text": [
      "[[ 58  64]\n",
      " [139 154]]\n"
     ]
    }
   ],
   "source": [
    "# Define two 2D arrays\n",
    "A = numpy.array([[1, 2, 3],\n",
    "              [4, 5, 6]])\n",
    "\n",
    "B = numpy.array([[7, 8],\n",
    "              [9, 10],\n",
    "              [11, 12]])\n",
    "\n",
    "# Compute the dot product\n",
    "C = numpy.dot(A, B)\n",
    "\n",
    "# Print the result\n",
    "print(C)\n"
   ]
  },
  {
   "cell_type": "markdown",
   "id": "84e57943",
   "metadata": {},
   "source": [
    "### Thus\n",
    "I will be using NumPy's dot function for calculating the matrixes of the weights in between the layers of my network. The weights between nodes and their outputs will be represented using 2-D NumPy arrays\n",
    "\n",
    "My neural network will only have one hidden layer."
   ]
  },
  {
   "cell_type": "code",
   "execution_count": 19,
   "id": "16512301",
   "metadata": {},
   "outputs": [],
   "source": [
    "class jirehsNeuralNetwork:\n",
    "    \n",
    "    def __init__(self, inputnodes, hiddennodes, outputnodes, learningrate):\n",
    "        \n",
    "        self.inodes = inputnodes\n",
    "        self.hnodes = hiddennodes\n",
    "        self.onodes = outputnodes\n",
    "        \n",
    "        self.lr = learningrate\n",
    "        \n",
    "        \n",
    "        # link weight matrices, wih and who\n",
    "        # weights inside the arrays are w_i_j, where link is from node i to node j in the next layer\n",
    "        \n",
    "        # weights from a normal probability distribution centred around zero \n",
    "        # and with a standard deviation that is related to the number of incoming links into a node, \n",
    "        # 1/√(number of incoming links)\n",
    "        \n",
    "        self.wih = numpy.random.normal(0.0, pow(self.hnodes, -0.5), (self.hnodes, self.inodes))\n",
    "        self.who = numpy.random.normal(0.0, pow(self.onodes, -0.5), (self.onodes, self.hnodes))\n",
    "        \n",
    "        # centre of the normal distribution to 0.0\n",
    "        # expression for the standard deviation related to the number of nodes in next layer \n",
    "        # in Python form as pow(self.hnodes, -0.5) which is simply raising the number of nodes to the power of -0.5\n",
    "        # That last parameter is the shape of the numpy array we want.\n",
    "        \n",
    "\n",
    "        # activation function is the sigmoid function\n",
    "        # takes x and returns scipy.special.expit(x) which is the sigmoid function\n",
    "        self.activation_function = lambda x: scipy.special.expit(x)\n",
    "\n",
    "    def train(self, inputs_list, targets_list):\n",
    "        # convert inputs list to 2d array\n",
    "        # see query for deconstruction\n",
    "        inputs = numpy.array(inputs_list, ndmin=2).T\n",
    "        targets = numpy.array(targets_list, ndmin=2).T\n",
    "        \n",
    "        # calculate signals into hidden layer\n",
    "        hidden_inputs = numpy.dot(self.wih, inputs)\n",
    "\n",
    "        # calculate the signals emerging from hidden layer\n",
    "        hidden_outputs = self.activation_function(hidden_inputs)\n",
    "\n",
    "\n",
    "        # calculate signals into final output layer\n",
    "        final_inputs = numpy.dot(self.who, hidden_outputs)\n",
    "        \n",
    "        # calculate the signals emerging from final output layer\n",
    "        final_outputs = self.activation_function(final_inputs)\n",
    "        \n",
    "        # This code is almost exactly the same as that in the query() function, \n",
    "        # because we’re feeding forward the signal from the input layer to the \n",
    "        # final output layer in exactly the same way.\n",
    "\n",
    "        # error is the (target - actual)\n",
    "        output_errors = targets - final_outputs\n",
    "        \n",
    "        # hidden layer error is the output_errors, split by weights, recombined at hidden nodes\n",
    "        # numpy.dot() calculates the dot product of two arrays. \n",
    "        # it is being used to calculate the weighted sum of the errors in the output layer,\n",
    "        # as they propagate backwards through the network.\n",
    "        hidden_errors = numpy.dot(self.who.T, output_errors)\n",
    "        \n",
    "        # For the weights between the hidden and final layers, we use the output_errors. \n",
    "        # For the weights between the input and hidden layers, we use these hidden_errors we just calculated.\n",
    "        \n",
    "        # update the weights for the links between the hidden and output layers\n",
    "        # this is a translation of the formula below\n",
    "        self.who += self.lr * numpy.dot((output_errors * final_outputs * (1.0 - final_outputs)), numpy.transpose(hidden_outputs))\n",
    "\n",
    "        # update the weights for the links between the input and hidden layers\n",
    "        self.wih += self.lr * numpy.dot((hidden_errors * hidden_outputs * (1.0 - hidden_outputs)), numpy.transpose(inputs))\n",
    "\n",
    "        # The learning rate is self.lr and simply multiplied with the rest of the expression\n",
    "        # matrix multiplication done by numpy.dot()\n",
    "        # error and sigmoids from the next layer = * final_outputs * (1.0 - final_outputs)\n",
    "        # transposed outputs from the previous layer = numpy.transpose(inputs)\n",
    "        # += simply means increase the preceding variable by the next amount\n",
    "\n",
    "    # query the neural network (doen't train weights or anything it just runs the inputs through the network once)\n",
    "    def query(self, inputs_list):\n",
    "        \n",
    "        # convert inputs list to 2d array\n",
    "        # ndmin parameter is used to ensure that the resulting array has at least 2 dimensions, even if input list is 1-d\n",
    "        # important because the T operation that comes later only works on arrays with 2 or more dimensions.\n",
    "        # .T is a shorthand for the NumPy transpose method, which returns a new array with the axes transposed. \n",
    "        # In this case, it is transposing the newly created array from step 1 so that the rows become columns and viceversa\n",
    "        inputs = numpy.array(inputs_list, ndmin=2).T\n",
    "                \n",
    "        # calculate signals into hidden layer\n",
    "        # numpy.dot() is a NumPy function that calculates the dot product of two arrays. \n",
    "        # it is being used to calculate the weighted sum of the inputs to each neuron in the hidden layer.\n",
    "        hidden_inputs = numpy.dot(self.wih, inputs)\n",
    "            \n",
    "        # calculate the signals emerging from hidden layer\n",
    "        hidden_outputs = self.activation_function(hidden_inputs)\n",
    "        \n",
    "        \n",
    "        # calculate signals into final output layer\n",
    "        final_inputs = numpy.dot(self.who, hidden_outputs)\n",
    "\n",
    "        # calculate the signals emerging from final output layer\n",
    "        final_outputs = self.activation_function(final_inputs)\n",
    "       \n",
    "        return final_outputs"
   ]
  },
  {
   "attachments": {
    "image.png": {
     "image/png": "[encoded data removed]"
    }
   },
   "cell_type": "markdown",
   "id": "bda965e3",
   "metadata": {},
   "source": [
    "### Remember\n",
    "\n",
    "The alpha is the learning rate, and the sigmoid is the squashing activation function. Remember that the * multiplication is the normal element by element multiplication, and the · dot is the matrix dot product. That last bit, the matrix of outputs from the previous layer, is transposed. In effect this means the column of outputs becomes a row of outputs. This is used in the **train()** function of the **jirehsNeuralNetwork** class for backpropagation\n",
    "\n",
    "![image.png](attachment:image.png)"
   ]
  },
  {
   "cell_type": "code",
   "execution_count": 15,
   "id": "8fc5b933",
   "metadata": {},
   "outputs": [],
   "source": [
    "# number of input, hidden and output nodes\n",
    "input_nodes = 3\n",
    "hidden_nodes = 3\n",
    "output_nodes = 3\n",
    "\n",
    "learning_rate = 0.3\n",
    "\n",
    "\n",
    "# create instance of neural network\n",
    "n = jirehsNeuralNetwork(input_nodes,hidden_nodes,output_nodes, learning_rate)\n",
    "\n",
    "# test query\n",
    "n.query([1.0, 0.5, -1.5])"
   ]
  },
  {
   "cell_type": "markdown",
   "id": "66ed616d",
   "metadata": {},
   "source": [
    "### Modifying the Neural Network for Image Recognition\n",
    "\n",
    "I will be using The MNIST Dataset of Handwritten Numbers sourced from http://yann.lecun.com/exdb/mnist/.\n",
    "\n",
    "Specifically, I will be using this dataset: http://pjreddie.com/projects/mnist-in-csv/ as it is in a much better format.\n",
    "\n",
    "Download links:\n",
    "- http://www.pjreddie.com/media/files/mnist_train.csv\n",
    "- http://www.pjreddie.com/media/files/mnist_test.csv\n",
    "\n",
    "The following are the links to a smaller subsets of the MNIST dataset in CSV format which will be used initially before the above datasets:\n",
    "\n",
    "- https://raw.githubusercontent.com/makeyourownneuralnetwork/makeyourownneuralnetwork/master/mnist_dataset/mnist_test_10.csv\n",
    "\n",
    "- https://raw.githubusercontent.com/makeyourownneuralnetwork/makeyourownneuralnetwork/master/mnist_dataset/mnist_train_100.csv\n",
    "\n",
    "The format of the csv files can be deconstructed as follows;\n",
    "- The first value is the label is the actual digit that the handwriting is supposed to represent, such as a \"7\" or a \"9\". This will be the target values of the neural network\n",
    "- The subsequent comma separated values, are the pixel values of the handwritten digit. The size of the pixel array is 28 by 28, so there are 784 values after the label\n",
    "\n",
    "In short the format is:\n",
    "- label, pix-11, pix-12, pix-13, ...\n",
    "- where pix-ij is the pixel in the ith row and jth column."
   ]
  },
  {
   "cell_type": "code",
   "execution_count": 3,
   "id": "d8f034da",
   "metadata": {},
   "outputs": [],
   "source": [
    "data_file = open(\"mnist_train_100.csv\", 'r')\n",
    "data_list = data_file.readlines()\n",
    "data_file.close()"
   ]
  },
  {
   "cell_type": "markdown",
   "id": "bd38bece",
   "metadata": {},
   "source": [
    "#### Note\n",
    "Dont use readlines() because it reads the entire file into memory. Better to read one line at a time and do whatever work you need with each line, and then move onto the next line. It is more efficient to work on a line at a time, and not read the entire file into memory. However I'm too lazy to do that. Also the files are small and its easier for the code"
   ]
  },
  {
   "cell_type": "code",
   "execution_count": 11,
   "id": "b00c6d4a",
   "metadata": {},
   "outputs": [
    {
     "data": {
      "text/plain": [
       "<matplotlib.image.AxesImage at 0x19c13696e20>"
      ]
     },
     "execution_count": 11,
     "metadata": {},
     "output_type": "execute_result"
    },
    {
     "data": {
      "image/png": "[encoded data removed]",
      "text/plain": [
       "<Figure size 640x480 with 1 Axes>"
      ]
     },
     "metadata": {},
     "output_type": "display_data"
    }
   ],
   "source": [
    "all_values = data_list[5].split(',')\n",
    "\n",
    "# numpy.asfarray() converts the text strings into real numbers and creates an array\n",
    "# the square brackets [1:] are used to take all except the first element of this list\n",
    "# .reshape((28,28)) makes sure the list of number is wrapped around every 28 elements to make a square matrix 28 by 28.\n",
    "image_array = numpy.asfarray(all_values[1:]).reshape((28,28))\n",
    "\n",
    "matplotlib.pyplot.imshow(image_array, cmap='Greys', interpolation='None')"
   ]
  },
  {
   "cell_type": "markdown",
   "id": "850a0615",
   "metadata": {},
   "source": [
    "### Ok, now what?\n",
    "I must rescale the input colour values from the larger range 0 to 255 to the much smaller range 0.01 - 1.0. The lower number range of 0.01 is used to avoid artificially killing weight updates. 0.99 is not used because 1.0 is ok for the inputs. It’s only for the outputs that I should avoid the impossible to reach 1.0."
   ]
  },
  {
   "cell_type": "code",
   "execution_count": 14,
   "id": "c6d97d46",
   "metadata": {},
   "outputs": [
    {
     "name": "stdout",
     "output_type": "stream",
     "text": [
      "[0.01       0.01       0.01       0.01       0.01       0.01\n",
      " 0.01       0.01       0.01       0.01       0.01       0.01\n",
      " 0.01       0.01       0.01       0.01       0.01       0.01\n",
      " 0.01       0.01       0.01       0.01       0.01       0.01\n",
      " 0.01       0.01       0.01       0.01       0.01       0.01\n",
      " 0.01       0.01       0.01       0.01       0.01       0.01\n",
      " 0.01       0.01       0.01       0.01       0.01       0.01\n",
      " 0.01       0.01       0.01       0.01       0.01       0.01\n",
      " 0.01       0.01       0.01       0.01       0.01       0.01\n",
      " 0.01       0.01       0.01       0.01       0.01       0.01\n",
      " 0.01       0.01       0.01       0.01       0.01       0.01\n",
      " 0.01       0.01       0.01       0.01       0.01       0.01\n",
      " 0.01       0.01       0.01       0.01       0.01       0.01\n",
      " 0.01       0.01       0.01       0.01       0.01       0.01\n",
      " 0.01       0.01       0.01       0.01       0.01       0.01\n",
      " 0.01       0.01       0.01       0.01       0.01       0.01\n",
      " 0.01       0.01       0.01       0.01       0.01       0.01\n",
      " 0.01       0.01       0.01       0.01       0.01       0.01\n",
      " 0.01       0.01       0.01       0.01       0.01       0.01\n",
      " 0.01       0.01       0.01       0.01       0.01       0.01\n",
      " 0.01       0.01       0.01       0.01       0.01       0.01\n",
      " 0.01       0.01       0.01       0.01       0.01       0.01\n",
      " 0.01       0.01       0.01       0.01       0.01       0.01\n",
      " 0.01       0.01       0.01       0.01       0.01       0.01\n",
      " 0.01       0.01       0.01       0.01       0.01       0.01\n",
      " 0.01       0.01       0.01       0.01       0.01       0.06047059\n",
      " 0.10705882 0.39823529 0.48364706 0.03717647 0.01       0.01\n",
      " 0.01       0.01       0.01       0.01       0.01       0.01\n",
      " 0.01       0.01       0.01       0.01       0.01       0.01\n",
      " 0.01       0.01       0.01       0.01       0.01       0.01\n",
      " 0.01       0.13811765 0.59623529 0.81752941 0.98835294 0.98835294\n",
      " 0.98835294 0.57682353 0.01       0.01       0.01       0.01\n",
      " 0.01       0.01       0.01       0.01       0.01       0.01\n",
      " 0.01       0.01       0.01       0.01       0.01       0.01\n",
      " 0.01       0.01       0.01       0.16529412 0.60011765 0.95729412\n",
      " 0.98835294 0.99223529 0.87964706 0.82917647 0.98835294 0.91070588\n",
      " 0.16529412 0.01       0.01       0.01       0.01       0.01\n",
      " 0.01       0.01       0.01       0.01       0.01       0.01\n",
      " 0.01       0.01       0.01       0.01       0.01       0.06823529\n",
      " 0.60011765 0.93788235 0.98835294 0.98835294 0.98835294 0.84858824\n",
      " 0.13035294 0.15364706 0.98835294 0.98835294 0.24294118 0.01\n",
      " 0.01       0.01       0.01       0.01       0.01       0.01\n",
      " 0.01       0.01       0.01       0.01       0.01       0.01\n",
      " 0.01       0.01       0.01       0.38270588 0.98835294 0.98835294\n",
      " 0.98835294 0.98835294 0.85247059 0.12258824 0.01       0.15364706\n",
      " 0.98835294 0.98835294 0.24294118 0.01       0.01       0.01\n",
      " 0.01       0.01       0.01       0.01       0.01       0.01\n",
      " 0.01       0.01       0.01       0.01       0.01       0.01\n",
      " 0.01       0.71270588 0.98835294 0.98835294 0.86411765 0.65835294\n",
      " 0.12647059 0.01       0.01       0.30894118 0.98835294 0.98835294\n",
      " 0.24294118 0.01       0.01       0.01       0.01       0.01\n",
      " 0.01       0.01       0.01       0.01       0.01       0.01\n",
      " 0.01       0.01       0.01       0.01       0.01       0.11094118\n",
      " 0.50694118 0.23517647 0.09541176 0.01       0.01       0.01\n",
      " 0.01       0.39823529 0.98835294 0.98835294 0.24294118 0.01\n",
      " 0.01       0.01       0.01       0.01       0.01       0.01\n",
      " 0.01       0.01       0.01       0.01       0.01       0.01\n",
      " 0.01       0.01       0.01       0.01       0.01       0.01\n",
      " 0.01       0.01       0.01       0.01       0.01       0.61952941\n",
      " 0.98835294 0.98835294 0.24294118 0.01       0.01       0.01\n",
      " 0.01       0.01       0.01       0.01       0.01       0.01\n",
      " 0.01       0.01       0.01       0.01       0.01       0.01\n",
      " 0.01       0.01       0.01       0.01       0.01       0.43705882\n",
      " 0.47976471 0.48364706 0.47976471 0.79423529 0.98835294 0.76317647\n",
      " 0.02164706 0.01       0.01       0.01       0.01       0.01\n",
      " 0.01       0.01       0.01       0.01       0.01       0.01\n",
      " 0.01       0.01       0.01       0.01       0.01       0.01\n",
      " 0.04882353 0.21576471 0.70494118 0.99223529 0.99223529 1.\n",
      " 0.99223529 0.99223529 0.89517647 0.14588235 0.01       0.01\n",
      " 0.01       0.01       0.01       0.01       0.01       0.01\n",
      " 0.01       0.01       0.01       0.01       0.01       0.01\n",
      " 0.01       0.01       0.02941176 0.21964706 0.89129412 0.98835294\n",
      " 0.95341176 0.89517647 0.67       0.94952941 0.98835294 0.98835294\n",
      " 0.90682353 0.46423529 0.03329412 0.01       0.01       0.01\n",
      " 0.01       0.01       0.01       0.01       0.01       0.01\n",
      " 0.01       0.01       0.01       0.01       0.01       0.03329412\n",
      " 0.31282353 0.98835294 0.98835294 0.49529412 0.23905882 0.01\n",
      " 0.07988235 0.81752941 0.98835294 0.98835294 0.98835294 0.98835294\n",
      " 0.34776471 0.03717647 0.01       0.01       0.01       0.01\n",
      " 0.01       0.01       0.01       0.01       0.01       0.01\n",
      " 0.01       0.01       0.02941176 0.53411765 0.98835294 0.98835294\n",
      " 0.70882353 0.07211765 0.01       0.09152941 0.79811765 0.99223529\n",
      " 0.96894118 0.51082353 0.68164706 0.98835294 0.98835294 0.72435294\n",
      " 0.26623529 0.20023529 0.20023529 0.01       0.01       0.01\n",
      " 0.01       0.01       0.01       0.01       0.01       0.02164706\n",
      " 0.538      0.98835294 0.94564706 0.42152941 0.076      0.01\n",
      " 0.21576471 0.78647059 0.98835294 0.84858824 0.26235294 0.01\n",
      " 0.06435294 0.28952941 0.64282353 0.94564706 0.98835294 0.98835294\n",
      " 0.87576471 0.01       0.01       0.01       0.01       0.01\n",
      " 0.01       0.01       0.01       0.41764706 0.98835294 0.94952941\n",
      " 0.35164706 0.07988235 0.29341176 0.67       0.95729412 0.98835294\n",
      " 0.49917647 0.12258824 0.01       0.01       0.01       0.01\n",
      " 0.01       0.35552941 0.70882353 0.70882353 0.15364706 0.01\n",
      " 0.01       0.01       0.01       0.01       0.01       0.01\n",
      " 0.01       0.90682353 0.98835294 0.96117647 0.80588235 0.84858824\n",
      " 0.98835294 0.98835294 0.98835294 0.49141176 0.02164706 0.01\n",
      " 0.01       0.01       0.01       0.01       0.01       0.01\n",
      " 0.01       0.01       0.01       0.01       0.01       0.01\n",
      " 0.01       0.01       0.01       0.01       0.01       0.81364706\n",
      " 0.98835294 0.98835294 0.98835294 0.98835294 0.70105882 0.46035294\n",
      " 0.14976471 0.02552941 0.01       0.01       0.01       0.01\n",
      " 0.01       0.01       0.01       0.01       0.01       0.01\n",
      " 0.01       0.01       0.01       0.01       0.01       0.01\n",
      " 0.01       0.01       0.01       0.06047059 0.37105882 0.56517647\n",
      " 0.47976471 0.09929412 0.03329412 0.01       0.01       0.01\n",
      " 0.01       0.01       0.01       0.01       0.01       0.01\n",
      " 0.01       0.01       0.01       0.01       0.01       0.01\n",
      " 0.01       0.01       0.01       0.01       0.01       0.01\n",
      " 0.01       0.01       0.01       0.01       0.01       0.01\n",
      " 0.01       0.01       0.01       0.01       0.01       0.01\n",
      " 0.01       0.01       0.01       0.01       0.01       0.01\n",
      " 0.01       0.01       0.01       0.01       0.01       0.01\n",
      " 0.01       0.01       0.01       0.01       0.01       0.01\n",
      " 0.01       0.01       0.01       0.01       0.01       0.01\n",
      " 0.01       0.01       0.01       0.01       0.01       0.01\n",
      " 0.01       0.01       0.01       0.01       0.01       0.01\n",
      " 0.01       0.01       0.01       0.01       0.01       0.01\n",
      " 0.01       0.01       0.01       0.01       0.01       0.01\n",
      " 0.01       0.01       0.01       0.01       0.01       0.01\n",
      " 0.01       0.01       0.01       0.01       0.01       0.01\n",
      " 0.01       0.01       0.01       0.01       0.01       0.01\n",
      " 0.01       0.01       0.01       0.01       0.01       0.01\n",
      " 0.01       0.01       0.01       0.01       0.01       0.01\n",
      " 0.01       0.01       0.01       0.01       0.01       0.01\n",
      " 0.01       0.01       0.01       0.01       0.01       0.01\n",
      " 0.01       0.01       0.01       0.01       0.01       0.01\n",
      " 0.01       0.01       0.01       0.01       0.01       0.01\n",
      " 0.01       0.01       0.01       0.01       0.01       0.01\n",
      " 0.01       0.01       0.01       0.01       0.01       0.01\n",
      " 0.01       0.01       0.01       0.01       0.01       0.01\n",
      " 0.01       0.01       0.01       0.01      ]\n"
     ]
    }
   ],
   "source": [
    "# Dividing the raw inputs which are in the range 0-255 by 255 will bring them into the range 0-1. \n",
    "# multiply by 0.99 to bring them into the range 0.0 - 0.99. \n",
    "# add 0.01 to shift them up to the desired range 0.01 to 1.00. \n",
    "scaled_input = (numpy.asfarray(all_values[1:]) / 255.0 * 0.99) + 0.01\n",
    "\n",
    "print(scaled_input)"
   ]
  },
  {
   "cell_type": "markdown",
   "id": "56ef48be",
   "metadata": {},
   "source": [
    "### ☆*: .｡. o(≧▽≦)o .｡.:*☆\n",
    "\n",
    "I am asking the neural network to classify the image and assign the correct label. That label is one of 10 numbers, from 0 to 9. That means the network should be able to have an output layer of 10 nodes, one for each of the possible answers, or labels. If the answer was “0” the first output layer node would fire and the rest should be silent. If the answer was “9” the last output layer node would fire and the rest would be silent. \n",
    "\n",
    "<img src=\"image2.jpeg\" style=\"width: 50%; height: auto;\">\n",
    "\n",
    "I will use the values 0.01 and 0.99, so the target for the label “5” should be [0.01, 0.01, 0.01, 0.01, 0.01, 0.99, 0.01, 0.01, 0.01, 0.01]."
   ]
  },
  {
   "cell_type": "code",
   "execution_count": 16,
   "id": "f35f05d6",
   "metadata": {},
   "outputs": [
    {
     "name": "stdout",
     "output_type": "stream",
     "text": [
      "[0.01 0.01 0.99 0.01 0.01 0.01 0.01 0.01 0.01 0.01]\n"
     ]
    }
   ],
   "source": [
    "# output nodes is 10\n",
    "onodes = 10\n",
    "\n",
    "# create an array filled with zeros\n",
    "targets = numpy.zeros(onodes) + 0.01\n",
    "\n",
    "# takes the first element of the MNIST dataset record, which is the training target label, and converts that string into an integer.\n",
    "targets[int(all_values[0])] = 0.99\n",
    "\n",
    "print(targets)"
   ]
  },
  {
   "cell_type": "markdown",
   "id": "d2ed5b50",
   "metadata": {},
   "source": [
    "### Training\n",
    "Above code just for demonstration. Below is for real now\n",
    "\n",
    "784 input nodes will be used because it is 28 x 28 which is the pixels that make up the handwritten number image.\n",
    "\n",
    "100 hidden nodes is a good number. Why? IDK."
   ]
  },
  {
   "cell_type": "code",
   "execution_count": 21,
   "id": "8207232b",
   "metadata": {},
   "outputs": [],
   "source": [
    "# create new NN instance\n",
    "# number of input, hidden and output nodes\n",
    "input_nodes = 784\n",
    "hidden_nodes = 100\n",
    "output_nodes = 10\n",
    "\n",
    "# learning rate is 0.3 (idk why 0.3 so dont ask me)\n",
    "learning_rate = 0.3\n",
    "\n",
    "# create instance of NN\n",
    "n = jirehsNeuralNetwork(input_nodes,hidden_nodes,output_nodes, learning_rate)\n",
    "\n",
    "training_data_file = open(\"mnist_train_100.csv\", 'r')\n",
    "training_data_list = training_data_file.readlines()\n",
    "training_data_file.close()\n",
    "\n",
    "# go through all records in the training data set\n",
    "for record in training_data_list:\n",
    "\n",
    "    # split the record by the ',' commas\n",
    "    all_values = record.split(',')\n",
    "\n",
    "    # scale and shift the inputs\n",
    "    inputs = (numpy.asfarray(all_values[1:]) / 255.0 * 0.99) + 0.01\n",
    "\n",
    "    # create the target output values (all 0.01, except the desired label which is 0.99)\n",
    "    targets = numpy.zeros(output_nodes) + 0.01\n",
    "\n",
    "    # all_values[0] is the target label for this record\n",
    "    targets[int(all_values[0])] = 0.99\n",
    "    \n",
    "    n.train(inputs, targets)"
   ]
  },
  {
   "cell_type": "markdown",
   "id": "39c80817",
   "metadata": {},
   "source": [
    "### Testing （￣︶￣）↗　"
   ]
  },
  {
   "cell_type": "code",
   "execution_count": 23,
   "id": "3178e1d2",
   "metadata": {},
   "outputs": [],
   "source": [
    "test_data_file = open(\"mnist_test_10.csv\", 'r')\n",
    "test_data_list = test_data_file.readlines()\n",
    "test_data_file.close()"
   ]
  },
  {
   "cell_type": "markdown",
   "id": "79c57dd5",
   "metadata": {},
   "source": [
    "#### But first lets check some shit"
   ]
  },
  {
   "cell_type": "code",
   "execution_count": 30,
   "id": "699f9547",
   "metadata": {},
   "outputs": [
    {
     "name": "stdout",
     "output_type": "stream",
     "text": [
      "1\n"
     ]
    }
   ],
   "source": [
    "all_values = test_data_list[5].split(',')\n",
    "print(all_values[0])"
   ]
  },
  {
   "cell_type": "code",
   "execution_count": 31,
   "id": "028f6aa9",
   "metadata": {},
   "outputs": [
    {
     "data": {
      "text/plain": [
       "<matplotlib.image.AxesImage at 0x19c136f8790>"
      ]
     },
     "execution_count": 31,
     "metadata": {},
     "output_type": "execute_result"
    },
    {
     "data": {
      "image/png": "[encoded data removed]",
      "text/plain": [
       "<Figure size 640x480 with 1 Axes>"
      ]
     },
     "metadata": {},
     "output_type": "display_data"
    }
   ],
   "source": [
    "image_array = numpy.asfarray(all_values[1:]).reshape((28,28))\n",
    "matplotlib.pyplot.imshow(image_array, cmap='Greys', interpolation='None')"
   ]
  },
  {
   "cell_type": "code",
   "execution_count": 32,
   "id": "5f10a6c6",
   "metadata": {},
   "outputs": [
    {
     "data": {
      "text/plain": [
       "array([[0.02668145],\n",
       "       [0.95450764],\n",
       "       [0.02202958],\n",
       "       [0.05881229],\n",
       "       [0.0240116 ],\n",
       "       [0.06973371],\n",
       "       [0.03651402],\n",
       "       [0.02931451],\n",
       "       [0.11480746],\n",
       "       [0.00400567]])"
      ]
     },
     "execution_count": 32,
     "metadata": {},
     "output_type": "execute_result"
    }
   ],
   "source": [
    "n.query((numpy.asfarray(all_values[1:]) / 255.0 * 0.99) + 0.01)"
   ]
  },
  {
   "cell_type": "markdown",
   "id": "493ed256",
   "metadata": {},
   "source": [
    "Above code shows that the NN works. Observe that the 1th value of the array is the highest as such the NN can detect that the writing in the image is a one."
   ]
  },
  {
   "cell_type": "markdown",
   "id": "bc78ce1c",
   "metadata": {},
   "source": [
    "#### Back to testing"
   ]
  },
  {
   "cell_type": "code",
   "execution_count": 47,
   "id": "a1af7d8d",
   "metadata": {},
   "outputs": [
    {
     "name": "stdout",
     "output_type": "stream",
     "text": [
      "Truth: 7 -- 7 :Prediction ✓\n",
      "Truth: 2 -- 0 :Prediction ✗\n",
      "Truth: 1 -- 1 :Prediction ✓\n",
      "Truth: 0 -- 0 :Prediction ✓\n",
      "Truth: 4 -- 4 :Prediction ✓\n",
      "Truth: 1 -- 1 :Prediction ✓\n",
      "Truth: 4 -- 4 :Prediction ✓\n",
      "Truth: 9 -- 3 :Prediction ✗\n",
      "Truth: 5 -- 4 :Prediction ✗\n",
      "Truth: 9 -- 7 :Prediction ✗\n",
      "\n",
      "Accuracy = 60.0 %\n"
     ]
    }
   ],
   "source": [
    "# performance scorecard that counts the accuracy (how many times a positive prediction occured)\n",
    "accuracy_count = []\n",
    "\n",
    "for record in test_data_list:\n",
    "\n",
    "    # split the record by the ',' commas\n",
    "    all_values = record.split(',')\n",
    "\n",
    "    # correct answer is first value\n",
    "    correct_label = int(all_values[0])\n",
    "    \n",
    "    # scale and shift the inputs\n",
    "    inputs = (numpy.asfarray(all_values[1:]) / 255.0 * 0.99) + 0.01\n",
    "\n",
    "    # query the network\n",
    "    outputs = n.query(inputs)\n",
    "\n",
    "    # the index of the highest value corresponds to the label\n",
    "    label = numpy.argmax(outputs)\n",
    "\n",
    "    # append correct or incorrect to list\n",
    "    if (label == correct_label):\n",
    "        accuracy_count.append(1)\n",
    "        print(\"Truth:\", correct_label, \"--\", label, \":Prediction\", '\\u2713')\n",
    "    else:\n",
    "        accuracy_count.append(0)\n",
    "        print(\"Truth:\", correct_label, \"--\", label, \":Prediction\", '\\u2717')\n",
    "\n",
    "# calculate the performance score\n",
    "accuracy_count_array = numpy.asarray(accuracy_count)\n",
    "print (\"\\nAccuracy =\", (accuracy_count_array.sum() / accuracy_count_array.size) * 100 , \"%\")"
   ]
  },
  {
   "cell_type": "markdown",
   "id": "60e5033b",
   "metadata": {},
   "source": [
    "### Full Datasets (´･ω･`)?"
   ]
  },
  {
   "cell_type": "markdown",
   "id": "697b9dda",
   "metadata": {},
   "source": [
    "#### Training\n",
    "This will take sometime, depending on how shit your PC is, as our dataset consists of 60,000 items?records?values?columns?"
   ]
  },
  {
   "cell_type": "code",
   "execution_count": 50,
   "id": "0c556be5",
   "metadata": {},
   "outputs": [
    {
     "name": "stdout",
     "output_type": "stream",
     "text": [
      "Training Completed\n",
      "Elapsed time: 27.46 seconds\n"
     ]
    }
   ],
   "source": [
    "# for calculating training execution time\n",
    "import time\n",
    "start_time = time.time()\n",
    "\n",
    "# create new NN instance\n",
    "# number of input, hidden and output nodes\n",
    "input_nodes = 784\n",
    "hidden_nodes = 100\n",
    "output_nodes = 10\n",
    "\n",
    "# learning rate is 0.3 (idk why 0.3 so dont ask me)\n",
    "learning_rate = 0.3\n",
    "\n",
    "# create instance of NN\n",
    "n = jirehsNeuralNetwork(input_nodes,hidden_nodes,output_nodes, learning_rate)\n",
    "\n",
    "training_data_file = open(\"mnist_train.csv\", 'r')\n",
    "training_data_list = training_data_file.readlines()\n",
    "training_data_file.close()\n",
    "\n",
    "# go through all records in the training data set\n",
    "for record in training_data_list:\n",
    "\n",
    "    # split the record by the ',' commas\n",
    "    all_values = record.split(',')\n",
    "\n",
    "    # scale and shift the inputs\n",
    "    inputs = (numpy.asfarray(all_values[1:]) / 255.0 * 0.99) + 0.01\n",
    "\n",
    "    # create the target output values (all 0.01, except the desired label which is 0.99)\n",
    "    targets = numpy.zeros(output_nodes) + 0.01\n",
    "\n",
    "    # all_values[0] is the target label for this record\n",
    "    targets[int(all_values[0])] = 0.99\n",
    "    \n",
    "    n.train(inputs, targets)\n",
    "\n",
    "print(\"Training Completed\")\n",
    "end_time = time.time()\n",
    "elapsed_time = end_time - start_time\n",
    "print(f\"Elapsed time: {elapsed_time:.2f} seconds\")"
   ]
  },
  {
   "cell_type": "markdown",
   "id": "ce13b7ce",
   "metadata": {},
   "source": [
    "#### TE(～￣▽￣)～TING"
   ]
  },
  {
   "cell_type": "code",
   "execution_count": 52,
   "id": "155082ab",
   "metadata": {},
   "outputs": [
    {
     "name": "stdout",
     "output_type": "stream",
     "text": [
      "\n",
      "Accuracy = 94.1 %\n",
      "Elapsed time: 2.64 seconds\n"
     ]
    }
   ],
   "source": [
    "test_data_file = open(\"mnist_test.csv\", 'r')\n",
    "test_data_list = test_data_file.readlines()\n",
    "test_data_file.close()\n",
    "\n",
    "# for calculating testing execution time\n",
    "import time\n",
    "start_time = time.time()\n",
    "\n",
    "# performance scorecard that counts the accuracy (how many times a positive prediction occured)\n",
    "accuracy_count = []\n",
    "\n",
    "for record in test_data_list:\n",
    "\n",
    "    # split the record by the ',' commas\n",
    "    all_values = record.split(',')\n",
    "\n",
    "    # correct answer is first value\n",
    "    correct_label = int(all_values[0])\n",
    "    \n",
    "    # scale and shift the inputs\n",
    "    inputs = (numpy.asfarray(all_values[1:]) / 255.0 * 0.99) + 0.01\n",
    "\n",
    "    # query the network\n",
    "    outputs = n.query(inputs)\n",
    "\n",
    "    # the index of the highest value corresponds to the label\n",
    "    label = numpy.argmax(outputs)\n",
    "\n",
    "    # append correct or incorrect to list\n",
    "    if (label == correct_label):\n",
    "        accuracy_count.append(1)\n",
    "    else:\n",
    "        accuracy_count.append(0)\n",
    "\n",
    "# calculate the performance score\n",
    "accuracy_count_array = numpy.asarray(accuracy_count)\n",
    "print (\"Accuracy =\", (accuracy_count_array.sum() / accuracy_count_array.size) * 100 , \"%\")\n",
    "\n",
    "end_time = time.time()\n",
    "elapsed_time = end_time - start_time\n",
    "print(f\"Elapsed time: {elapsed_time:.2f} seconds\")"
   ]
  },
  {
   "cell_type": "markdown",
   "id": "fb22174f",
   "metadata": {},
   "source": [
    "### What happens if I change the Learning Rate? (* ￣︿￣)\n",
    "IDK\n",
    "\n",
    "<img src=\"image3.jpeg\" style=\"width: 50%; height: auto;\">\n",
    "\n",
    "So this is what should happen if I change the learning rate. It shows that 0.2 is the sweetspot for this problem. Basically, having too small a learning rate (like 0.01) is damaging, since it limits the speed at which gradient descent happens, by making the steps too small. On the other hand, the larger learning rate leads to some bouncing around and overshooting during the gradient descent."
   ]
  },
  {
   "cell_type": "markdown",
   "id": "3132cd56",
   "metadata": {},
   "source": [
    "### Epochs (Makes free users of Google Colab cry)\n",
    "Epochs help the weights do gradient descent by providing more chances to creep down those slopes. I hope you understood that. If not, fuck you. \n",
    "\n",
    "Below is an implementation of epochs and new learning rate on the JNN.\n",
    "\n",
    "**Warning:** this is even slower than the previous code. C++ is faster bro. I wonder if there is a JupyterNotebook alternative for C++? I'm not going to google it though. This is already hard enough. Redoing this in C++? lol no thx. What if I have to use pointers? Yeah fuck no. I'll just be ignorant."
   ]
  },
  {
   "cell_type": "code",
   "execution_count": 54,
   "id": "b5664ad6",
   "metadata": {},
   "outputs": [
    {
     "name": "stdout",
     "output_type": "stream",
     "text": [
      "Learning Rate 0.2\n",
      "Epochs: 10\n",
      "Training Completed\n",
      "Training time: 268.31 seconds\n",
      "\n",
      "Accuracy = 95.46 %\n",
      "Testing time: 1.96 seconds\n"
     ]
    }
   ],
   "source": [
    "# TRAINING\n",
    "# for calculating training execution time\n",
    "import time\n",
    "start_time = time.time()\n",
    "\n",
    "# create new NN instance\n",
    "# number of input, hidden and output nodes\n",
    "input_nodes = 784\n",
    "hidden_nodes = 100\n",
    "output_nodes = 10\n",
    "\n",
    "# learning rate is now 0.2 muthafucka\n",
    "learning_rate = 0.2\n",
    "\n",
    "# create instance of NN\n",
    "n = jirehsNeuralNetwork(input_nodes,hidden_nodes,output_nodes, learning_rate)\n",
    "\n",
    "training_data_file = open(\"mnist_train.csv\", 'r')\n",
    "training_data_list = training_data_file.readlines()\n",
    "training_data_file.close()\n",
    "\n",
    "# epochs is the number of times the training data set is used for training\n",
    "epochs = 10\n",
    "\n",
    "for e in range(epochs):\n",
    "\n",
    "    # go through all records in the training data set\n",
    "    for record in training_data_list:\n",
    "\n",
    "        # split the record by the ',' commas\n",
    "        all_values = record.split(',')\n",
    "\n",
    "        # scale and shift the inputs\n",
    "        inputs = (numpy.asfarray(all_values[1:]) / 255.0 * 0.99) + 0.01\n",
    "\n",
    "        # create the target output values (all 0.01, except the desired label which is 0.99)\n",
    "        targets = numpy.zeros(output_nodes) + 0.01\n",
    "\n",
    "        # all_values[0] is the target label for this record\n",
    "        targets[int(all_values[0])] = 0.99\n",
    "\n",
    "        n.train(inputs, targets)\n",
    "\n",
    "\n",
    "print(\"Learning Rate\", learning_rate)\n",
    "print(\"Epochs:\", epochs)\n",
    "\n",
    "print(\"\\nTraining Completed\")\n",
    "end_time = time.time()\n",
    "elapsed_time = end_time - start_time\n",
    "print(f\"Training time: {elapsed_time:.2f} seconds\")\n",
    "\n",
    "# TESTING\n",
    "test_data_file = open(\"mnist_test.csv\", 'r')\n",
    "test_data_list = test_data_file.readlines()\n",
    "test_data_file.close()\n",
    "\n",
    "# for calculating testing execution time\n",
    "import time\n",
    "start_time = time.time()\n",
    "\n",
    "# performance scorecard that counts the accuracy (how many times a positive prediction occured)\n",
    "accuracy_count = []\n",
    "\n",
    "for record in test_data_list:\n",
    "\n",
    "    # split the record by the ',' commas\n",
    "    all_values = record.split(',')\n",
    "\n",
    "    # correct answer is first value\n",
    "    correct_label = int(all_values[0])\n",
    "    \n",
    "    # scale and shift the inputs\n",
    "    inputs = (numpy.asfarray(all_values[1:]) / 255.0 * 0.99) + 0.01\n",
    "\n",
    "    # query the network\n",
    "    outputs = n.query(inputs)\n",
    "\n",
    "    # the index of the highest value corresponds to the label\n",
    "    label = numpy.argmax(outputs)\n",
    "\n",
    "    # append correct or incorrect to list\n",
    "    if (label == correct_label):\n",
    "        accuracy_count.append(1)\n",
    "    else:\n",
    "        accuracy_count.append(0)\n",
    "\n",
    "# calculate the performance score\n",
    "accuracy_count_array = numpy.asarray(accuracy_count)\n",
    "print (\"\\nAccuracy =\", (accuracy_count_array.sum() / accuracy_count_array.size) * 100 , \"%\")\n",
    "\n",
    "end_time = time.time()\n",
    "elapsed_time = end_time - start_time\n",
    "print(f\"Testing time: {elapsed_time:.2f} seconds\")"
   ]
  },
  {
   "cell_type": "markdown",
   "id": "0b8336f1",
   "metadata": {},
   "source": [
    "Intuition suggests the more training you do the better the performance. Yeah, fuck no. Too much training is actually bad because the network overfits to the training data, and then performs badly against new data that it hasn’t seen before. This overfitting is something to beware of across many different kinds of machine learning, not just neural networks.\n",
    "\n",
    "I already know this from my Data Science specialization. (￣y▽￣)╭ Ohohoho.....\n",
    "\n",
    "<img src=\"image4.jpeg\" style=\"width: 50%; height: auto;\">\n",
    "\n",
    "The 5 or 7 epochs are good. After that performance degrades, and this may be the effect of overfitting. Note that the dip at 6 epochs is probably an unlucky run with the network getting stuck in a bad minimum during gradient descent. Remember that neural network learning is a random process and can sometimes not work ok, and sometimes work really fucking badly.\n",
    "\n",
    "Anyways, further testing should show this;\n",
    "<img src=\"image5.jpeg\" style=\"width: 50%; height: auto;\">\n",
    "Thus, I will be using lr = 0.1 and epoch = 5 from here on out"
   ]
  },
  {
   "cell_type": "markdown",
   "id": "f55bb360",
   "metadata": {},
   "source": [
    "### What about the Hidden Layer Node number? (╬▔皿▔)╯\n",
    "Yeaaaahh im not going to demo that here either. I probably should though just for learning purposes but I already know what happens. So how can it be learning if I already know \n",
    "━━(￣ー￣*|||━━\n",
    "\n",
    "\" The learning capacity of a neural network refers to its ability to learn from input data and improve its performance over time. The learning capacity of a neural network is determined by the architecture of the network and the training process. The architecture of the network refers to the number and arrangement of neurons, or processing units, within the network. The training process involves adjusting the weights and biases of the connections between neurons in order to optimize the network's performance. A neural network with a larger number of neurons or layers will typically have a higher learning capacity, as it will be able to recognize more complex patterns in the input data. However, a larger network also requires more training data and computational resources, and can be more prone to overfitting.\" - **ChatGPT**\n",
    "\n",
    "TLDR: The number of hidden layer nodes directly impact learning capacity which impacts accuracy and a whole lot of other shit.\n",
    "<img src=\"image6.png\" style=\"width: 50%; height: auto;\">\n",
    "So the best node number is 200.\n",
    "\n",
    "Below should be the most optimized JNN. \n",
    "**Warning:** Also takes some time."
   ]
  },
  {
   "cell_type": "code",
   "execution_count": 55,
   "id": "c1a5763d",
   "metadata": {},
   "outputs": [
    {
     "name": "stdout",
     "output_type": "stream",
     "text": [
      "Hidden Nodes: 200\n",
      "Learning Rate: 0.2\n",
      "Epochs: 10\n",
      "\n",
      "Training Completed\n",
      "Training time: 439.16 seconds\n",
      "\n",
      "Accuracy = 96.71 %\n",
      "Testing time: 2.78 seconds\n"
     ]
    }
   ],
   "source": [
    "# TRAINING\n",
    "# for calculating training execution time\n",
    "import time\n",
    "start_time = time.time()\n",
    "\n",
    "# create new NN instance\n",
    "# number of input, hidden and output nodes\n",
    "input_nodes = 784\n",
    "hidden_nodes = 200\n",
    "output_nodes = 10\n",
    "\n",
    "# learning rate is now 0.2 muthafucka\n",
    "learning_rate = 0.2\n",
    "\n",
    "# create instance of NN\n",
    "n = jirehsNeuralNetwork(input_nodes,hidden_nodes,output_nodes, learning_rate)\n",
    "\n",
    "print(\"Hidden Nodes:\", hidden_nodes)\n",
    "print(\"Learning Rate:\", learning_rate)\n",
    "print(\"Epochs:\", epochs)\n",
    "\n",
    "training_data_file = open(\"mnist_train.csv\", 'r')\n",
    "training_data_list = training_data_file.readlines()\n",
    "training_data_file.close()\n",
    "\n",
    "# epochs is the number of times the training data set is used for training\n",
    "epochs = 5\n",
    "\n",
    "for e in range(epochs):\n",
    "\n",
    "    # go through all records in the training data set\n",
    "    for record in training_data_list:\n",
    "\n",
    "        # split the record by the ',' commas\n",
    "        all_values = record.split(',')\n",
    "\n",
    "        # scale and shift the inputs\n",
    "        inputs = (numpy.asfarray(all_values[1:]) / 255.0 * 0.99) + 0.01\n",
    "\n",
    "        # create the target output values (all 0.01, except the desired label which is 0.99)\n",
    "        targets = numpy.zeros(output_nodes) + 0.01\n",
    "\n",
    "        # all_values[0] is the target label for this record\n",
    "        targets[int(all_values[0])] = 0.99\n",
    "\n",
    "        n.train(inputs, targets)\n",
    "\n",
    "print(\"\\nTraining Completed\")\n",
    "end_time = time.time()\n",
    "elapsed_time = end_time - start_time\n",
    "print(f\"Training time: {elapsed_time:.2f} seconds\")\n",
    "\n",
    "# TESTING\n",
    "test_data_file = open(\"mnist_test.csv\", 'r')\n",
    "test_data_list = test_data_file.readlines()\n",
    "test_data_file.close()\n",
    "\n",
    "# for calculating testing execution time\n",
    "import time\n",
    "start_time = time.time()\n",
    "\n",
    "# performance scorecard that counts the accuracy (how many times a positive prediction occured)\n",
    "accuracy_count = []\n",
    "\n",
    "for record in test_data_list:\n",
    "\n",
    "    # split the record by the ',' commas\n",
    "    all_values = record.split(',')\n",
    "\n",
    "    # correct answer is first value\n",
    "    correct_label = int(all_values[0])\n",
    "    \n",
    "    # scale and shift the inputs\n",
    "    inputs = (numpy.asfarray(all_values[1:]) / 255.0 * 0.99) + 0.01\n",
    "\n",
    "    # query the network\n",
    "    outputs = n.query(inputs)\n",
    "\n",
    "    # the index of the highest value corresponds to the label\n",
    "    label = numpy.argmax(outputs)\n",
    "\n",
    "    # append correct or incorrect to list\n",
    "    if (label == correct_label):\n",
    "        accuracy_count.append(1)\n",
    "    else:\n",
    "        accuracy_count.append(0)\n",
    "\n",
    "# calculate the performance score\n",
    "accuracy_count_array = numpy.asarray(accuracy_count)\n",
    "print (\"\\nAccuracy =\", (accuracy_count_array.sum() / accuracy_count_array.size) * 100 , \"%\")\n",
    "\n",
    "end_time = time.time()\n",
    "elapsed_time = end_time - start_time\n",
    "print(f\"Testing time: {elapsed_time:.2f} seconds\")"
   ]
  },
  {
   "cell_type": "markdown",
   "id": "787a5d47",
   "metadata": {},
   "source": [
    "## TIME TO TEST WITH MY OWN HANDWRITING AHAHAHAHAHAHAH\n",
    "Lets see if it can understand the hieroglyphics that my hands produce."
   ]
  },
  {
   "cell_type": "code",
   "execution_count": null,
   "id": "87fe012f",
   "metadata": {},
   "outputs": [],
   "source": [
    "my_writing_dataset = []\n",
    "\n",
    "# load the png image data as test data set\n",
    "for image_file_name in glob.glob('handwriting/image_?.png'):\n",
    "    \n",
    "    # use the filename to set the correct label\n",
    "    label = int(image_file_name[-5:-4])\n",
    "    \n",
    "    # load image data from png files into an array\n",
    "    print (\"loading ... \", image_file_name)\n",
    "    img_array = imageio.imread(image_file_name, as_gray=True)\n",
    "    \n",
    "    # reshape from 28x28 to list of 784 values, invert values\n",
    "    img_data  = 255.0 - img_array.reshape(784)\n",
    "    \n",
    "    # scale data to range from 0.01 to 1.0\n",
    "    img_data = (img_data / 255.0 * 0.99) + 0.01\n",
    "    print(numpy.min(img_data))\n",
    "    print(numpy.max(img_data))\n",
    "    \n",
    "    # append label and image data  to test data set\n",
    "    record = numpy.append(label,img_data)\n",
    "    my_writing_dataset.append(record)"
   ]
  },
  {
   "cell_type": "code",
   "execution_count": null,
   "id": "6bcc948d",
   "metadata": {},
   "outputs": [],
   "source": [
    "# record to test\n",
    "item = 2\n",
    "\n",
    "# plot image\n",
    "matplotlib.pyplot.imshow(our_own_dataset[item][1:].reshape(28,28), cmap='Greys', interpolation='None')\n",
    "\n",
    "# correct answer is first value\n",
    "correct_label = our_own_dataset[item][0]\n",
    "# data is remaining values\n",
    "inputs = our_own_dataset[item][1:]\n",
    "\n",
    "# query the network\n",
    "outputs = n.query(inputs)\n",
    "print (outputs)\n",
    "\n",
    "# the index of the highest value corresponds to the label\n",
    "label = numpy.argmax(outputs)\n",
    "print(\"network says \", label)\n",
    "# append correct or incorrect to list\n",
    "if (label == correct_label):\n",
    "    print (\"match!\")\n",
    "else:\n",
    "    print (\"no match!\")\n",
    "    pass"
   ]
  },
  {
   "cell_type": "markdown",
   "id": "7b138b27",
   "metadata": {},
   "source": [
    "### References\n",
    "- Make Your Own Neural Network (2016) by Tariq Hashi\n",
    "- Some ChatGPT prompts (how do you cite ChatGPT anyway?)"
   ]
  }
 ],
 "metadata": {
  "kernelspec": {
   "display_name": "Python 3 (ipykernel)",
   "language": "python",
   "name": "python3"
  },
  "language_info": {
   "codemirror_mode": {
    "name": "ipython",
    "version": 3
   },
   "file_extension": ".py",
   "mimetype": "text/x-python",
   "name": "python",
   "nbconvert_exporter": "python",
   "pygments_lexer": "ipython3",
   "version": "3.9.13"
  }
 },
 "nbformat": 4,
 "nbformat_minor": 5
}
